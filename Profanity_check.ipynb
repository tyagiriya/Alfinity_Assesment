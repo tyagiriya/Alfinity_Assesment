{
 "cells": [
  {
   "cell_type": "code",
   "execution_count": 11,
   "metadata": {},
   "outputs": [
    {
     "name": "stdout",
     "output_type": "stream",
     "text": [
      "0.03571428571428571\n"
     ]
    }
   ],
   "source": [
    "\n",
    "\n",
    "import re\n",
    "# using this tokenize we split sentence into token\n",
    "def tokenize(text): \n",
    "    #we fill find the pattern \n",
    "    return re.findall(r'\\w+', text.lower())\n",
    "# set of words that indicates racial slurs\n",
    "profane_tokens = {\"black\"}\n",
    "\n",
    "sentence = \"Some black guy at my school asked if there were colored printers in the library.It’s 2014 man you can use any printer you want I said.!\"\n",
    "\n",
    "tokens = tokenize(sentence)\n",
    "\n",
    "# Rate: number of occurrences normalized by total number\n",
    "degree_of_profanity = sum(1 for t in tokens if t in profane_tokens) / len(tokens)\n",
    "print(degree_of_profanity)"
   ]
  },
  {
   "cell_type": "code",
   "execution_count": null,
   "metadata": {},
   "outputs": [],
   "source": []
  },
  {
   "cell_type": "code",
   "execution_count": null,
   "metadata": {},
   "outputs": [],
   "source": []
  }
 ],
 "metadata": {
  "kernelspec": {
   "display_name": "Python 3",
   "language": "python",
   "name": "python3"
  },
  "language_info": {
   "codemirror_mode": {
    "name": "ipython",
    "version": 3
   },
   "file_extension": ".py",
   "mimetype": "text/x-python",
   "name": "python",
   "nbconvert_exporter": "python",
   "pygments_lexer": "ipython3",
   "version": "3.8.5"
  }
 },
 "nbformat": 4,
 "nbformat_minor": 4
}
